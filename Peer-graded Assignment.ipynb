{
 "cells": [
  {
   "cell_type": "markdown",
   "id": "2215cad3-7217-4c47-9e13-be3e2e0b0fb5",
   "metadata": {
    "tags": []
   },
   "source": [
    "# My Jupiter Notebook on IBM Watson Studio "
   ]
  },
  {
   "cell_type": "markdown",
   "id": "e80ea17a-673e-494b-a4ea-418a492b5b87",
   "metadata": {},
   "source": [
    "**Rabi Bello**"
   ]
  },
  {
   "cell_type": "markdown",
   "id": "4d386242-ffbf-47bf-9ff7-d3e6c58516b0",
   "metadata": {},
   "source": [
    "Data Scientist "
   ]
  },
  {
   "cell_type": "markdown",
   "id": "a83977a3-a08e-4687-a501-7ac8bea59817",
   "metadata": {},
   "source": [
    "*I am interested in data science because it combines programming and statistics which i both love.*"
   ]
  },
  {
   "cell_type": "markdown",
   "id": "2a78a98d-4bd2-49d1-a472-13797e6c9b45",
   "metadata": {
    "tags": []
   },
   "source": [
    "### THE FOLLOWING CODE TESTS SIMPLE ADDITION "
   ]
  },
  {
   "cell_type": "code",
   "execution_count": 1,
   "id": "46b7c705-c438-4621-b8ac-fdd241181b82",
   "metadata": {},
   "outputs": [
    {
     "data": {
      "text/plain": [
       "2"
      ]
     },
     "execution_count": 1,
     "metadata": {},
     "output_type": "execute_result"
    }
   ],
   "source": [
    "1 + 1 "
   ]
  },
  {
   "cell_type": "markdown",
   "id": "39f429bb-1129-4c40-addd-9a2f0001d4e8",
   "metadata": {},
   "source": [
    "* one \n",
    "* two \n",
    "* three\n",
    "* four \n",
    "* five \n",
    "\n",
    "***\n",
    "\n",
    "<a href=\"https://www.google.com\" >Link to Google</a>\n",
    "\n",
    "*** \n",
    "\n",
    "British short cats are the cutest.\n",
    "\n",
    "![British short cats are the cutest.](http://t2.gstatic.com/licensed-image?q=tbn:ANd9GcSo08bPtMtiSrhiTX2-845VOe3mRXmoGvpHPXsLN5QCooa-MqTgm5jdSD-C6tlO-5BMgiptCDYLF4ea51w)\n",
    "\n",
    "***\n",
    "\n",
    "\n",
    "\n"
   ]
  },
  {
   "cell_type": "code",
   "execution_count": null,
   "id": "31a65df9-da27-448a-bc63-8efa62df9b89",
   "metadata": {},
   "outputs": [],
   "source": []
  },
  {
   "cell_type": "code",
   "execution_count": null,
   "id": "8fb0848d-8b05-4bdd-93df-6975293c6065",
   "metadata": {},
   "outputs": [],
   "source": []
  }
 ],
 "metadata": {
  "kernelspec": {
   "display_name": "Python",
   "language": "python",
   "name": "conda-env-python-py"
  },
  "language_info": {
   "codemirror_mode": {
    "name": "ipython",
    "version": 3
   },
   "file_extension": ".py",
   "mimetype": "text/x-python",
   "name": "python",
   "nbconvert_exporter": "python",
   "pygments_lexer": "ipython3",
   "version": "3.7.12"
  }
 },
 "nbformat": 4,
 "nbformat_minor": 5
}
